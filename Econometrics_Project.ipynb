{
 "cells": [
  {
   "cell_type": "code",
   "execution_count": 695,
   "id": "6a794371",
   "metadata": {},
   "outputs": [],
   "source": [
    "import numpy as np\n",
    "import pandas as pd\n",
    "import matplotlib.pyplot as plt\n",
    "import statsmodels.api as sm"
   ]
  },
  {
   "cell_type": "markdown",
   "id": "7ed5b022",
   "metadata": {},
   "source": [
    "In this project, I will use Linear Regression to determine the relationship of the Inflation and Interest rates with the S&P500."
   ]
  },
  {
   "cell_type": "code",
   "execution_count": 659,
   "id": "cfdab8c7",
   "metadata": {},
   "outputs": [],
   "source": [
    "sp500 = pd.read_csv (r'SP500.csv')\n",
    "inflation=pd.read_csv (r'T10YIE.csv')\n",
    "interest=pd.read_csv (r'DFF.csv')"
   ]
  },
  {
   "cell_type": "markdown",
   "id": "827bf0fc",
   "metadata": {},
   "source": [
    "# Data Cleaning"
   ]
  },
  {
   "cell_type": "markdown",
   "id": "f6d09281",
   "metadata": {},
   "source": [
    "The following are the summaries of each dataset."
   ]
  },
  {
   "cell_type": "code",
   "execution_count": 431,
   "id": "e6222b46",
   "metadata": {},
   "outputs": [
    {
     "name": "stdout",
     "output_type": "stream",
     "text": [
      "<class 'pandas.core.frame.DataFrame'>\n",
      "RangeIndex: 1305 entries, 0 to 1304\n",
      "Data columns (total 2 columns):\n",
      " #   Column  Non-Null Count  Dtype \n",
      "---  ------  --------------  ----- \n",
      " 0   DATE    1305 non-null   object\n",
      " 1   SP500   1305 non-null   object\n",
      "dtypes: object(2)\n",
      "memory usage: 20.5+ KB\n"
     ]
    }
   ],
   "source": [
    "sp500.info()"
   ]
  },
  {
   "cell_type": "code",
   "execution_count": 531,
   "id": "93ede708",
   "metadata": {},
   "outputs": [
    {
     "name": "stdout",
     "output_type": "stream",
     "text": [
      "<class 'pandas.core.frame.DataFrame'>\n",
      "RangeIndex: 1305 entries, 0 to 1304\n",
      "Data columns (total 2 columns):\n",
      " #   Column  Non-Null Count  Dtype \n",
      "---  ------  --------------  ----- \n",
      " 0   DATE    1305 non-null   object\n",
      " 1   T10YIE  1305 non-null   object\n",
      "dtypes: object(2)\n",
      "memory usage: 20.5+ KB\n"
     ]
    }
   ],
   "source": [
    "inflation.info()"
   ]
  },
  {
   "cell_type": "code",
   "execution_count": 491,
   "id": "6c498779",
   "metadata": {},
   "outputs": [
    {
     "name": "stdout",
     "output_type": "stream",
     "text": [
      "<class 'pandas.core.frame.DataFrame'>\n",
      "RangeIndex: 1827 entries, 0 to 1826\n",
      "Data columns (total 2 columns):\n",
      " #   Column  Non-Null Count  Dtype  \n",
      "---  ------  --------------  -----  \n",
      " 0   DATE    1827 non-null   object \n",
      " 1   DFF     1827 non-null   float64\n",
      "dtypes: float64(1), object(1)\n",
      "memory usage: 28.7+ KB\n"
     ]
    }
   ],
   "source": [
    "interest.info()"
   ]
  },
  {
   "cell_type": "markdown",
   "id": "effe0d6b",
   "metadata": {},
   "source": [
    "The data has some entries that only have periods.  The following replaces the entries that have only periods with the mean of the data."
   ]
  },
  {
   "cell_type": "code",
   "execution_count": 139,
   "id": "0b3fe3eb",
   "metadata": {},
   "outputs": [],
   "source": [
    "def mean_replace(column,df,value):\n",
    "    l=[]\n",
    "    for i in column:\n",
    "        if i!=value:\n",
    "            l.append(float(i))\n",
    "    for i in column:\n",
    "        if i==value:\n",
    "            df=df.replace(value,np.mean(l))"
   ]
  },
  {
   "cell_type": "code",
   "execution_count": 140,
   "id": "2c0bdc68",
   "metadata": {},
   "outputs": [],
   "source": [
    "mean_replace(sp500.SP500,sp500,'.')"
   ]
  },
  {
   "cell_type": "code",
   "execution_count": null,
   "id": "fca8ebcd",
   "metadata": {},
   "outputs": [],
   "source": [
    "mean_replace(inflation.T10YIE,inflation,'.')"
   ]
  },
  {
   "cell_type": "code",
   "execution_count": null,
   "id": "838cee46",
   "metadata": {},
   "outputs": [],
   "source": [
    "mean_replace(interest.DFF,interest,'.')"
   ]
  },
  {
   "cell_type": "code",
   "execution_count": 542,
   "id": "7440f756",
   "metadata": {},
   "outputs": [],
   "source": [
    "sp=np.array([float(i) for i in sp500.SP500])\n",
    "infl=np.array([float(i) for i in inflation.T10YIE])\n",
    "inte=np.array([float(i) for i in interest.DFF])[522:]"
   ]
  },
  {
   "cell_type": "markdown",
   "id": "563360d7",
   "metadata": {},
   "source": [
    "# Feature Engineering"
   ]
  },
  {
   "cell_type": "markdown",
   "id": "6dd15060",
   "metadata": {},
   "source": [
    "Inflation is close to being normally distributed and Interest is not."
   ]
  },
  {
   "cell_type": "code",
   "execution_count": 530,
   "id": "4e1fe728",
   "metadata": {},
   "outputs": [
    {
     "data": {
      "text/plain": [
       "Text(0.5, 1.0, 'Inflation Rate Distribution')"
      ]
     },
     "execution_count": 530,
     "metadata": {},
     "output_type": "execute_result"
    },
    {
     "data": {
      "image/png": "[encoded data removed]",
      "text/plain": [
       "<Figure size 432x288 with 1 Axes>"
      ]
     },
     "metadata": {
      "needs_background": "light"
     },
     "output_type": "display_data"
    }
   ],
   "source": [
    "plt.hist(infl)\n",
    "plt.title('Inflation Rate Distribution')"
   ]
  },
  {
   "cell_type": "code",
   "execution_count": 528,
   "id": "8f9abec7",
   "metadata": {},
   "outputs": [
    {
     "data": {
      "text/plain": [
       "Text(0.5, 1.0, 'Interest Rate Distribution')"
      ]
     },
     "execution_count": 528,
     "metadata": {},
     "output_type": "execute_result"
    },
    {
     "data": {
      "image/png": "[encoded data removed]",
      "text/plain": [
       "<Figure size 432x288 with 1 Axes>"
      ]
     },
     "metadata": {
      "needs_background": "light"
     },
     "output_type": "display_data"
    }
   ],
   "source": [
    "plt.hist(inte)\n",
    "plt.title('Interest Rate Distribution')"
   ]
  },
  {
   "cell_type": "markdown",
   "id": "c34c7c3b",
   "metadata": {},
   "source": [
    "Use min max scaling to normalize the distributions."
   ]
  },
  {
   "cell_type": "code",
   "execution_count": 715,
   "id": "3cdd52bf",
   "metadata": {},
   "outputs": [],
   "source": [
    "ifn=[(i-min(infl))/(max(infl)-min(infl)) for i in infl]\n",
    "itn=[(i-min(infl))/(max(infl)-min(infl)) for i in inte]"
   ]
  },
  {
   "cell_type": "markdown",
   "id": "44a84863",
   "metadata": {},
   "source": [
    "H0:The means of Inflation and Interest are the same.\n",
    "H1:The means of Inflation and Interest are not the same.  \n",
    "The p-value of the z-test indicates that Inflation and Interest are statistically distinct from eachother."
   ]
  },
  {
   "cell_type": "code",
   "execution_count": 699,
   "id": "f0e661ae",
   "metadata": {},
   "outputs": [
    {
     "data": {
      "text/plain": [
       "(array([16.65105685]), array([2.97305142e-62]))"
      ]
     },
     "execution_count": 699,
     "metadata": {},
     "output_type": "execute_result"
    }
   ],
   "source": [
    "sm.stats.ztest(ifn, itn, alternative='two-sided')"
   ]
  },
  {
   "cell_type": "code",
   "execution_count": 706,
   "id": "1bebe3ef",
   "metadata": {},
   "outputs": [],
   "source": [
    "df=pd.DataFrame({'SP500':sp,'Interest':np.ravel(itn),'Inflation':np.ravel(ifn)})"
   ]
  },
  {
   "cell_type": "markdown",
   "id": "d2abc2cd",
   "metadata": {},
   "source": [
    "There is no significant multicollinearity amoung Inflation and Interest rates. "
   ]
  },
  {
   "cell_type": "code",
   "execution_count": 704,
   "id": "8e41d03d",
   "metadata": {},
   "outputs": [
    {
     "data": {
      "text/html": [
       "<div>\n",
       "<style scoped>\n",
       "    .dataframe tbody tr th:only-of-type {\n",
       "        vertical-align: middle;\n",
       "    }\n",
       "\n",
       "    .dataframe tbody tr th {\n",
       "        vertical-align: top;\n",
       "    }\n",
       "\n",
       "    .dataframe thead th {\n",
       "        text-align: right;\n",
       "    }\n",
       "</style>\n",
       "<table border=\"1\" class=\"dataframe\">\n",
       "  <thead>\n",
       "    <tr style=\"text-align: right;\">\n",
       "      <th></th>\n",
       "      <th>SP500</th>\n",
       "      <th>Interest</th>\n",
       "      <th>Inflation</th>\n",
       "    </tr>\n",
       "  </thead>\n",
       "  <tbody>\n",
       "    <tr>\n",
       "      <th>SP500</th>\n",
       "      <td>1.000000</td>\n",
       "      <td>-0.678821</td>\n",
       "      <td>0.583123</td>\n",
       "    </tr>\n",
       "    <tr>\n",
       "      <th>Interest</th>\n",
       "      <td>-0.678821</td>\n",
       "      <td>1.000000</td>\n",
       "      <td>0.072239</td>\n",
       "    </tr>\n",
       "    <tr>\n",
       "      <th>Inflation</th>\n",
       "      <td>0.583123</td>\n",
       "      <td>0.072239</td>\n",
       "      <td>1.000000</td>\n",
       "    </tr>\n",
       "  </tbody>\n",
       "</table>\n",
       "</div>"
      ],
      "text/plain": [
       "              SP500  Interest  Inflation\n",
       "SP500      1.000000 -0.678821   0.583123\n",
       "Interest  -0.678821  1.000000   0.072239\n",
       "Inflation  0.583123  0.072239   1.000000"
      ]
     },
     "execution_count": 704,
     "metadata": {},
     "output_type": "execute_result"
    }
   ],
   "source": [
    "df.corr()"
   ]
  },
  {
   "cell_type": "markdown",
   "id": "55574f4d",
   "metadata": {},
   "source": [
    "# Modeling"
   ]
  },
  {
   "cell_type": "code",
   "execution_count": 705,
   "id": "f6bac55c",
   "metadata": {},
   "outputs": [
    {
     "data": {
      "text/html": [
       "<table class=\"simpletable\">\n",
       "<caption>OLS Regression Results</caption>\n",
       "<tr>\n",
       "  <th>Dep. Variable:</th>          <td>SP500</td>      <th>  R-squared:         </th> <td>   0.864</td> \n",
       "</tr>\n",
       "<tr>\n",
       "  <th>Model:</th>                   <td>OLS</td>       <th>  Adj. R-squared:    </th> <td>   0.863</td> \n",
       "</tr>\n",
       "<tr>\n",
       "  <th>Method:</th>             <td>Least Squares</td>  <th>  F-statistic:       </th> <td>   2744.</td> \n",
       "</tr>\n",
       "<tr>\n",
       "  <th>Date:</th>             <td>Mon, 28 Mar 2022</td> <th>  Prob (F-statistic):</th>  <td>  0.00</td>  \n",
       "</tr>\n",
       "<tr>\n",
       "  <th>Time:</th>                 <td>16:23:44</td>     <th>  Log-Likelihood:    </th> <td> -9063.0</td> \n",
       "</tr>\n",
       "<tr>\n",
       "  <th>No. Observations:</th>      <td>  1305</td>      <th>  AIC:               </th> <td>1.813e+04</td>\n",
       "</tr>\n",
       "<tr>\n",
       "  <th>Df Residuals:</th>          <td>  1301</td>      <th>  BIC:               </th> <td>1.815e+04</td>\n",
       "</tr>\n",
       "<tr>\n",
       "  <th>Df Model:</th>              <td>     3</td>      <th>                     </th>     <td> </td>    \n",
       "</tr>\n",
       "<tr>\n",
       "  <th>Covariance Type:</th>      <td>nonrobust</td>    <th>                     </th>     <td> </td>    \n",
       "</tr>\n",
       "</table>\n",
       "<table class=\"simpletable\">\n",
       "<tr>\n",
       "           <td></td>             <th>coef</th>     <th>std err</th>      <th>t</th>      <th>P>|t|</th>  <th>[0.025</th>    <th>0.975]</th>  \n",
       "</tr>\n",
       "<tr>\n",
       "  <th>Intercept</th>          <td> 1886.8407</td> <td>   30.696</td> <td>   61.469</td> <td> 0.000</td> <td> 1826.622</td> <td> 1947.060</td>\n",
       "</tr>\n",
       "<tr>\n",
       "  <th>Inflation</th>          <td> 3006.5329</td> <td>   50.498</td> <td>   59.537</td> <td> 0.000</td> <td> 2907.466</td> <td> 3105.600</td>\n",
       "</tr>\n",
       "<tr>\n",
       "  <th>Interest</th>           <td> -750.1184</td> <td>  136.994</td> <td>   -5.476</td> <td> 0.000</td> <td>-1018.871</td> <td> -481.366</td>\n",
       "</tr>\n",
       "<tr>\n",
       "  <th>Inflation:Interest</th> <td> -702.7069</td> <td>  226.498</td> <td>   -3.102</td> <td> 0.002</td> <td>-1147.048</td> <td> -258.366</td>\n",
       "</tr>\n",
       "</table>\n",
       "<table class=\"simpletable\">\n",
       "<tr>\n",
       "  <th>Omnibus:</th>       <td>93.353</td> <th>  Durbin-Watson:     </th> <td>   0.953</td>\n",
       "</tr>\n",
       "<tr>\n",
       "  <th>Prob(Omnibus):</th> <td> 0.000</td> <th>  Jarque-Bera (JB):  </th> <td> 359.487</td>\n",
       "</tr>\n",
       "<tr>\n",
       "  <th>Skew:</th>          <td>-0.230</td> <th>  Prob(JB):          </th> <td>8.68e-79</td>\n",
       "</tr>\n",
       "<tr>\n",
       "  <th>Kurtosis:</th>      <td> 5.530</td> <th>  Cond. No.          </th> <td>    47.9</td>\n",
       "</tr>\n",
       "</table><br/><br/>Notes:<br/>[1] Standard Errors assume that the covariance matrix of the errors is correctly specified."
      ],
      "text/plain": [
       "<class 'statsmodels.iolib.summary.Summary'>\n",
       "\"\"\"\n",
       "                            OLS Regression Results                            \n",
       "==============================================================================\n",
       "Dep. Variable:                  SP500   R-squared:                       0.864\n",
       "Model:                            OLS   Adj. R-squared:                  0.863\n",
       "Method:                 Least Squares   F-statistic:                     2744.\n",
       "Date:                Mon, 28 Mar 2022   Prob (F-statistic):               0.00\n",
       "Time:                        16:23:44   Log-Likelihood:                -9063.0\n",
       "No. Observations:                1305   AIC:                         1.813e+04\n",
       "Df Residuals:                    1301   BIC:                         1.815e+04\n",
       "Df Model:                           3                                         \n",
       "Covariance Type:            nonrobust                                         \n",
       "======================================================================================\n",
       "                         coef    std err          t      P>|t|      [0.025      0.975]\n",
       "--------------------------------------------------------------------------------------\n",
       "Intercept           1886.8407     30.696     61.469      0.000    1826.622    1947.060\n",
       "Inflation           3006.5329     50.498     59.537      0.000    2907.466    3105.600\n",
       "Interest            -750.1184    136.994     -5.476      0.000   -1018.871    -481.366\n",
       "Inflation:Interest  -702.7069    226.498     -3.102      0.002   -1147.048    -258.366\n",
       "==============================================================================\n",
       "Omnibus:                       93.353   Durbin-Watson:                   0.953\n",
       "Prob(Omnibus):                  0.000   Jarque-Bera (JB):              359.487\n",
       "Skew:                          -0.230   Prob(JB):                     8.68e-79\n",
       "Kurtosis:                       5.530   Cond. No.                         47.9\n",
       "==============================================================================\n",
       "\n",
       "Notes:\n",
       "[1] Standard Errors assume that the covariance matrix of the errors is correctly specified.\n",
       "\"\"\""
      ]
     },
     "execution_count": 705,
     "metadata": {},
     "output_type": "execute_result"
    }
   ],
   "source": [
    "model=sm.formula.ols('SP500~Inflation+Interest+Inflation*Interest', data=df).fit()\n",
    "model.summary()"
   ]
  },
  {
   "cell_type": "markdown",
   "id": "e209af10",
   "metadata": {},
   "source": [
    "The model R squared is a good score.  With a critical value of .05, both Inflation and Interest have statistically significant p-values.  Inflation has a positive effect and Interest has a negative effect on the S&P500.  For every one unit increase of Inflation, the S&P500 increases by 3006.5329.  For every one unit increase of Interest, the S&P500 decreases by 750.1184.  For every one unit increase in the interaction term, the S&P500 decreases by 702.7069."
   ]
  },
  {
   "cell_type": "markdown",
   "id": "fa6fa5d4",
   "metadata": {},
   "source": [
    "The F-statistic null hypothesis is the regression coefficients are zero.  The F statistic p-value shows that the coeficiants are significant.  "
   ]
  },
  {
   "cell_type": "markdown",
   "id": "7514a1f0",
   "metadata": {},
   "source": [
    "The assumption of independent residuals Durbin-Watson test is ouside the range of 1 to 2, but very close to 1."
   ]
  },
  {
   "cell_type": "markdown",
   "id": "043d9f36",
   "metadata": {},
   "source": [
    "The assumption of normality of the residuals Jarque-Bera test has a null hypothesis of normality of the residuals.  After normalizing the data with min max scaling the residuals are still not normally distributed."
   ]
  },
  {
   "cell_type": "code",
   "execution_count": 691,
   "id": "1d20e83f",
   "metadata": {},
   "outputs": [
    {
     "data": {
      "text/plain": [
       "(53.695065619809355, 1.303302857150924e-11)"
      ]
     },
     "execution_count": 691,
     "metadata": {},
     "output_type": "execute_result"
    }
   ],
   "source": [
    "sm.stats.diagnostic.het_breuschpagan(model.resid, model.model.exog)[:2]"
   ]
  },
  {
   "cell_type": "markdown",
   "id": "adec1b44",
   "metadata": {},
   "source": [
    "The assumption of homoscedasticity Breusch-Pagan test has a null hypothesis that the residual variances are all equal.  The p-value does not pass this test."
   ]
  },
  {
   "cell_type": "markdown",
   "id": "505ba0be",
   "metadata": {},
   "source": [
    "The Anova model F statistic score shows that the variation between group means is larger than the variation within group means and that there are few errors. The p-values indicate that both Inflation and Interest are statistically significant from and have an effect on the S&P500.  The F score for the interaction term confirms that the impact of the independant variable depends on the level of the other independant variable."
   ]
  },
  {
   "cell_type": "code",
   "execution_count": 717,
   "id": "541c6708",
   "metadata": {},
   "outputs": [
    {
     "data": {
      "text/html": [
       "<div>\n",
       "<style scoped>\n",
       "    .dataframe tbody tr th:only-of-type {\n",
       "        vertical-align: middle;\n",
       "    }\n",
       "\n",
       "    .dataframe tbody tr th {\n",
       "        vertical-align: top;\n",
       "    }\n",
       "\n",
       "    .dataframe thead th {\n",
       "        text-align: right;\n",
       "    }\n",
       "</style>\n",
       "<table border=\"1\" class=\"dataframe\">\n",
       "  <thead>\n",
       "    <tr style=\"text-align: right;\">\n",
       "      <th></th>\n",
       "      <th>sum_sq</th>\n",
       "      <th>df</th>\n",
       "      <th>F</th>\n",
       "      <th>PR(&gt;F)</th>\n",
       "    </tr>\n",
       "  </thead>\n",
       "  <tbody>\n",
       "    <tr>\n",
       "      <th>Inflation</th>\n",
       "      <td>2.422174e+08</td>\n",
       "      <td>1.0</td>\n",
       "      <td>3829.712609</td>\n",
       "      <td>0.00000</td>\n",
       "    </tr>\n",
       "    <tr>\n",
       "      <th>Interest</th>\n",
       "      <td>3.150326e+08</td>\n",
       "      <td>1.0</td>\n",
       "      <td>4980.997570</td>\n",
       "      <td>0.00000</td>\n",
       "    </tr>\n",
       "    <tr>\n",
       "      <th>Inflation:Interest</th>\n",
       "      <td>6.087786e+05</td>\n",
       "      <td>1.0</td>\n",
       "      <td>9.625432</td>\n",
       "      <td>0.00196</td>\n",
       "    </tr>\n",
       "    <tr>\n",
       "      <th>Residual</th>\n",
       "      <td>8.228420e+07</td>\n",
       "      <td>1301.0</td>\n",
       "      <td>NaN</td>\n",
       "      <td>NaN</td>\n",
       "    </tr>\n",
       "  </tbody>\n",
       "</table>\n",
       "</div>"
      ],
      "text/plain": [
       "                          sum_sq      df            F   PR(>F)\n",
       "Inflation           2.422174e+08     1.0  3829.712609  0.00000\n",
       "Interest            3.150326e+08     1.0  4980.997570  0.00000\n",
       "Inflation:Interest  6.087786e+05     1.0     9.625432  0.00196\n",
       "Residual            8.228420e+07  1301.0          NaN      NaN"
      ]
     },
     "execution_count": 717,
     "metadata": {},
     "output_type": "execute_result"
    }
   ],
   "source": [
    "sm.stats.anova_lm(model,typ=2)"
   ]
  },
  {
   "cell_type": "code",
   "execution_count": 707,
   "id": "da30b4ba",
   "metadata": {},
   "outputs": [],
   "source": [
    "x=df.drop('SP500',axis=1)\n",
    "y_hat=model.predict(x)"
   ]
  },
  {
   "cell_type": "markdown",
   "id": "85ae11f1",
   "metadata": {},
   "source": [
    "The RMSE:."
   ]
  },
  {
   "cell_type": "code",
   "execution_count": 708,
   "id": "94ee6336",
   "metadata": {},
   "outputs": [
    {
     "data": {
      "text/plain": [
       "251.10361647334568"
      ]
     },
     "execution_count": 708,
     "metadata": {},
     "output_type": "execute_result"
    }
   ],
   "source": [
    "sm.tools.eval_measures.rmse(df.SP500,y_hat)"
   ]
  }
 ],
 "metadata": {
  "kernelspec": {
   "display_name": "Python 3",
   "language": "python",
   "name": "python3"
  },
  "language_info": {
   "codemirror_mode": {
    "name": "ipython",
    "version": 3
   },
   "file_extension": ".py",
   "mimetype": "text/x-python",
   "name": "python",
   "nbconvert_exporter": "python",
   "pygments_lexer": "ipython3",
   "version": "3.9.10"
  }
 },
 "nbformat": 4,
 "nbformat_minor": 5
}
